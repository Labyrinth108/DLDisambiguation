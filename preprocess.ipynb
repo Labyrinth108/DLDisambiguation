{
 "cells": [
  {
   "cell_type": "code",
   "execution_count": 3,
   "metadata": {},
   "outputs": [
    {
     "data": {
      "text/plain": [
       "7531224"
      ]
     },
     "execution_count": 2,
     "metadata": {},
     "output_type": "execute_result"
    }
   ],
   "source": [
    "#!/usr/bin/env python\n",
    "# coding=utf-8\n",
    "\n",
    "import codecs\n",
    "\n",
    "dir = \"/Users/luoyi/Documents/Python/DLDisambiguation/data/\"\n",
    "file_path = dir + \"src.txt\"\n",
    "\n",
    "data = []\n",
    "file = codecs.open(file_path, \"r\")\n",
    "line = file.readline()\n",
    "\n",
    "while line != \"\":\n",
    "    d = line.strip()\n",
    "    if str(d)!= 1 and d != \"NA\": #处理\"无\"和\"NA\"的情况\n",
    "       data.append(d)\n",
    "    line = file.readline()\n",
    "len(data)"
   ]
  },
  {
   "cell_type": "code",
   "execution_count": 11,
   "metadata": {},
   "outputs": [],
   "source": [
    "import re\n",
    "\n",
    "file = codecs.open(dir + \"character_src.txt\", \"w+\",\"utf-8\")\n",
    "\n",
    "for i in data:\n",
    "    res_0 = i.replace('&nbsp;', '')\n",
    "    res_0 = re.sub(ur\"\\u3000\", '', res_0)   # 将中文的空格用英文空格代替，后面可以处理\n",
    "    res_0 = re.sub(r\"\\w\\d+.\\d+\", '', res_0) # 去除掉ICD编码 eg:I20.222\n",
    "    res_0 = re.sub(r\"\\s\\w+\", \"\", res_0) #去掉空格后的字母，eg: 心肌梗塞急性 NOS\n",
    "    res = re.split(ur\"[（ ）\\( \\)， \\.；;、：° \\s+ \\*\\[ \\] \\+ ？? \\,]\", res_0.decode(\"utf-8\"))\n",
    "    res = filter(lambda x: len(x) != 1 and len(x) != 0, res)\n",
    "    try:\n",
    "        characters = list(\"\".join(res).decode(\"utf-8\"))\n",
    "    except Exception as e:\n",
    "        continue\n",
    "    file.write(\" \".join(characters) + \"\\n\")\n",
    "file.close()"
   ]
  },
  {
   "cell_type": "code",
   "execution_count": 13,
   "metadata": {},
   "outputs": [],
   "source": [
    "import re, codecs, jieba\n",
    "\n",
    "file = codecs.open(dir + \"word_src.txt\", \"w+\",\"utf-8\")\n",
    "\n",
    "for i in data:\n",
    "    res_0 = i.replace('&nbsp;', '')\n",
    "    res_0 = re.sub(ur\"\\u3000\", '', res_0)   # 将中文的空格用英文空格代替，后面可以处理\n",
    "    res_0 = re.sub(r\"\\w\\d+.\\d+\", '', res_0) # 去除掉ICD编码 eg:I20.222\n",
    "    res_0 = re.sub(r\"\\s\\w+\", \"\", res_0) #去掉空格后的字母，eg: 心肌梗塞急性 NOS\n",
    "    res = re.split(ur\"[（ ）\\( \\)， \\.；;、：° \\s+ \\*\\[ \\] \\+ ？? \\,]\", res_0.decode(\"utf-8\"))\n",
    "    res = filter(lambda x: len(x) != 1 and len(x) != 0, res)\n",
    "    try:\n",
    "        x = jieba.cut(\" \".join(res).decode(\"utf-8\"))\n",
    "        words = list(x)\n",
    "    except Exception as e:\n",
    "        continue\n",
    "    file.write(\" \".join(words) + \"\\n\")\n",
    "\n",
    "file.close()"
   ]
  },
  {
   "cell_type": "code",
   "execution_count": 13,
   "metadata": {},
   "outputs": [
    {
     "ename": "ImportError",
     "evalue": "No module named gensim",
     "traceback": [
      "\u001b[0;31m\u001b[0m",
      "\u001b[0;31mImportError\u001b[0mTraceback (most recent call last)",
      "\u001b[0;32m<ipython-input-13-ec15f3ffe0f1>\u001b[0m in \u001b[0;36m<module>\u001b[0;34m()\u001b[0m\n\u001b[0;32m----> 1\u001b[0;31m \u001b[0;32mimport\u001b[0m \u001b[0mgensim\u001b[0m\u001b[0;34m\u001b[0m\u001b[0m\n\u001b[0m",
      "\u001b[0;31mImportError\u001b[0m: No module named gensim"
     ],
     "output_type": "error"
    }
   ],
   "source": [
    "import gensim"
   ]
  },
  {
   "cell_type": "code",
   "execution_count": null,
   "metadata": {},
   "outputs": [],
   "source": [
    ""
   ]
  }
 ],
 "metadata": {
  "kernelspec": {
   "display_name": "Python 2",
   "language": "python",
   "name": "python2"
  },
  "language_info": {
   "codemirror_mode": {
    "name": "ipython",
    "version": 2.0
   },
   "file_extension": ".py",
   "mimetype": "text/x-python",
   "name": "python",
   "nbconvert_exporter": "python",
   "pygments_lexer": "ipython2",
   "version": "2.7.6"
  }
 },
 "nbformat": 4,
 "nbformat_minor": 0
}